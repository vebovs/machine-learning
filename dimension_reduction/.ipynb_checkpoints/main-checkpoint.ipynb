{
 "cells": [
  {
   "cell_type": "code",
   "execution_count": 3,
   "metadata": {},
   "outputs": [
    {
     "name": "stdout",
     "output_type": "stream",
     "text": [
      "Index(['Edibility', 'Cap-shape', 'Cap-surface', 'Cap-color', 'bruises?',\n",
      "       'odor', 'Gill-attachment', 'Gill-spacing', 'Gill-size', 'Gill-color',\n",
      "       'Stalk-shape', 'Stalk-root', 'Stalk-surface-above-ring',\n",
      "       'Stalk-surface-below-ring', 'Stalk-color-above-ring',\n",
      "       'Stalk-color-below-ring', 'Veil-type', 'Veil-color', 'Ring-number',\n",
      "       'Ring-type', 'Spore-print-color', 'Population', 'Habitat'],\n",
      "      dtype='object')\n",
      "[['p' 'x' 's' ... 'k' 's' 'u']\n",
      " ['e' 'x' 's' ... 'n' 'n' 'g']\n",
      " ['e' 'b' 's' ... 'n' 'n' 'm']\n",
      " ...\n",
      " ['e' 'f' 's' ... 'b' 'c' 'l']\n",
      " ['p' 'k' 'y' ... 'w' 'v' 'l']\n",
      " ['e' 'x' 's' ... 'o' 'c' 'l']]\n"
     ]
    }
   ],
   "source": [
    "import pandas as pd\n",
    "\n",
    "data = pd.read_csv('data.csv')\n",
    "\n",
    "labels = data.columns\n",
    "features = data.values\n",
    "\n",
    "print(labels)\n",
    "print(features)"
   ]
  },
  {
   "cell_type": "code",
   "execution_count": 9,
   "metadata": {},
   "outputs": [
    {
     "name": "stdout",
     "output_type": "stream",
     "text": [
      "(119, 8124)\n",
      "(119,)\n"
     ]
    },
    {
     "name": "stderr",
     "output_type": "stream",
     "text": [
      "/usr/lib/python3.7/site-packages/sklearn/svm/base.py:193: FutureWarning: The default value of gamma will change from 'auto' to 'scale' in version 0.22 to account better for unscaled features. Set gamma explicitly to 'auto' or 'scale' to avoid this warning.\n",
      "  \"avoid this warning.\", FutureWarning)\n"
     ]
    },
    {
     "data": {
      "text/plain": [
       "Pipeline(memory=None,\n",
       "         steps=[('reduce_dim',\n",
       "                 PCA(copy=True, iterated_power='auto', n_components=5,\n",
       "                     random_state=None, svd_solver='auto', tol=0.0,\n",
       "                     whiten=False)),\n",
       "                ('clf',\n",
       "                 SVC(C=1.0, cache_size=200, class_weight=None, coef0=0.0,\n",
       "                     decision_function_shape='ovr', degree=3,\n",
       "                     gamma='auto_deprecated', kernel='rbf', max_iter=-1,\n",
       "                     probability=False, random_state=None, shrinking=True,\n",
       "                     tol=0.001, verbose=False))],\n",
       "         verbose=False)"
      ]
     },
     "execution_count": 9,
     "metadata": {},
     "output_type": "execute_result"
    }
   ],
   "source": [
    "from sklearn.svm import SVC\n",
    "from sklearn.decomposition import PCA\n",
    "from sklearn.pipeline import Pipeline\n",
    "\n",
    "dummies = pd.get_dummies(data)\n",
    "X = dummies.values.transpose()\n",
    "y = dummies.columns\n",
    "\n",
    "print(X.shape)\n",
    "print(y.shape)\n",
    "\n",
    "svc = SVC()\n",
    "pca = PCA(n_components = 5)\n",
    "pipe = Pipeline([('reduce_dim', pca), ('clf', svc)])\n",
    "pipe.fit(X, y)"
   ]
  }
 ],
 "metadata": {
  "kernelspec": {
   "display_name": "Python 3",
   "language": "python",
   "name": "python3"
  },
  "language_info": {
   "codemirror_mode": {
    "name": "ipython",
    "version": 3
   },
   "file_extension": ".py",
   "mimetype": "text/x-python",
   "name": "python",
   "nbconvert_exporter": "python",
   "pygments_lexer": "ipython3",
   "version": "3.7.4"
  }
 },
 "nbformat": 4,
 "nbformat_minor": 2
}
